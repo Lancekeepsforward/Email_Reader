{
 "cells": [
  {
   "cell_type": "code",
   "execution_count": 2,
   "metadata": {},
   "outputs": [],
   "source": [
    "from IPython.display import clear_output\n",
    "import pandas as pd\n",
    "import sys\n",
    "import os\n",
    "from pathlib import Path"
   ]
  },
  {
   "cell_type": "code",
   "execution_count": null,
   "metadata": {},
   "outputs": [],
   "source": [
    "sys.path.insert(0, \"/Users/sclance/Desktop/Recent Project/Email_Reader\")\n",
    "sys.path.append(\"/Users/sclance/Desktop/Recent Project/Email_Reader/src/email_agent/agent\")\n",
    "sys.path.append(\"/Users/sclance/Desktop/Recent Project/Email_Reader/src/email_agent/utils\")\n",
    "sys.path.append(\"/Users/sclance/Desktop/Recent Project/Email_Reader/src/email_agent/config\")\n",
    "sys.path.append(\"/Users/sclance/Desktop/Recent Project/Email_Reader/src/email_agent/web/search_results\")\n",
    "os.chdir(sys.path[0])\n",
    "\n",
    "print(os.getcwd())\n"
   ]
  },
  {
   "cell_type": "code",
   "execution_count": 7,
   "metadata": {},
   "outputs": [
    {
     "name": "stdout",
     "output_type": "stream",
     "text": [
      "0 /Users/sclance/Desktop/Recent Project/Email_Reader\n",
      "1 /opt/homebrew/Cellar/python@3.13/3.13.1/Frameworks/Python.framework/Versions/3.13/lib/python313.zip\n",
      "2 /opt/homebrew/Cellar/python@3.13/3.13.1/Frameworks/Python.framework/Versions/3.13/lib/python3.13\n",
      "3 /opt/homebrew/Cellar/python@3.13/3.13.1/Frameworks/Python.framework/Versions/3.13/lib/python3.13/lib-dynload\n",
      "4 \n",
      "5 /Users/sclance/Desktop/Recent Project/Email_Reader/.venv/lib/python3.13/site-packages\n",
      "6 /Users/sclance/Desktop/Recent Project/Email_Reader/src/email_agent/agent\n",
      "7 /Users/sclance/Desktop/Recent Project/Email_Reader/src/email_agent/utils\n",
      "8 /Users/sclance/Desktop/Recent Project/Email_Reader/src/email_agent/config\n",
      "9 /Users/sclance/Desktop/Recent Project/Email_Reader/src/email_agent/web/search_results\n"
     ]
    }
   ],
   "source": [
    "for idx, path in enumerate(sys.path):\n",
    "    print(idx, path)"
   ]
  },
  {
   "cell_type": "code",
   "execution_count": 9,
   "metadata": {},
   "outputs": [],
   "source": [
    "df = pd.read_csv(sys.path[9] + '/search_results.csv')"
   ]
  },
  {
   "cell_type": "code",
   "execution_count": 13,
   "metadata": {},
   "outputs": [
    {
     "data": {
      "text/plain": [
       "'/Users/sclance/Desktop/Recent Project/Email_Reader'"
      ]
     },
     "execution_count": 13,
     "metadata": {},
     "output_type": "execute_result"
    }
   ],
   "source": []
  },
  {
   "cell_type": "code",
   "execution_count": 12,
   "metadata": {},
   "outputs": [
    {
     "ename": "ImportError",
     "evalue": "attempted relative import with no known parent package",
     "output_type": "error",
     "traceback": [
      "\u001b[31m---------------------------------------------------------------------------\u001b[39m",
      "\u001b[31mImportError\u001b[39m                               Traceback (most recent call last)",
      "\u001b[36mCell\u001b[39m\u001b[36m \u001b[39m\u001b[32mIn[12]\u001b[39m\u001b[32m, line 2\u001b[39m\n\u001b[32m      1\u001b[39m \u001b[38;5;66;03m# sys.path.append('/Users/sclance/Desktop/Recent Project/Email_Reader/src/email_agent/agent')\u001b[39;00m\n\u001b[32m----> \u001b[39m\u001b[32m2\u001b[39m \u001b[38;5;28;01mfrom\u001b[39;00m\u001b[38;5;250m \u001b[39m\u001b[34;01mbase_agent\u001b[39;00m\u001b[38;5;250m \u001b[39m\u001b[38;5;28;01mimport\u001b[39;00m BaseAgent\n\u001b[32m      4\u001b[39m agent = BaseAgent()\n\u001b[32m      6\u001b[39m \u001b[38;5;28mprint\u001b[39m(agent)\n",
      "\u001b[36mFile \u001b[39m\u001b[32m~/Desktop/Recent Project/Email_Reader/src/email_agent/agent/base_agent.py:7\u001b[39m\n\u001b[32m      5\u001b[39m \u001b[38;5;28;01mimport\u001b[39;00m\u001b[38;5;250m \u001b[39m\u001b[34;01msys\u001b[39;00m\n\u001b[32m      6\u001b[39m \u001b[38;5;28;01mfrom\u001b[39;00m\u001b[38;5;250m \u001b[39m\u001b[34;01mdotenv\u001b[39;00m\u001b[38;5;250m \u001b[39m\u001b[38;5;28;01mimport\u001b[39;00m load_dotenv\n\u001b[32m----> \u001b[39m\u001b[32m7\u001b[39m \u001b[38;5;28;01mfrom\u001b[39;00m\u001b[38;5;250m \u001b[39m\u001b[34;01m.\u001b[39;00m\u001b[34;01m.\u001b[39;00m\u001b[34;01mutils\u001b[39;00m\u001b[34;01m.\u001b[39;00m\u001b[34;01memail_sample\u001b[39;00m\u001b[38;5;250m \u001b[39m\u001b[38;5;28;01mimport\u001b[39;00m EmailSample\n\u001b[32m      8\u001b[39m \u001b[38;5;28;01mimport\u001b[39;00m\u001b[38;5;250m \u001b[39m\u001b[34;01mcopy\u001b[39;00m\n\u001b[32m     10\u001b[39m load_dotenv(dotenv_path=\u001b[33m\"\u001b[39m\u001b[33m.env\u001b[39m\u001b[33m\"\u001b[39m)\n",
      "\u001b[31mImportError\u001b[39m: attempted relative import with no known parent package"
     ]
    }
   ],
   "source": [
    "# sys.path.append('/Users/sclance/Desktop/Recent Project/Email_Reader/src/email_agent/agent')\n",
    "from base_agent import BaseAgent\n",
    "\n",
    "agent = BaseAgent()\n",
    "\n",
    "print(agent)"
   ]
  },
  {
   "cell_type": "code",
   "execution_count": 44,
   "metadata": {},
   "outputs": [
    {
     "name": "stdout",
     "output_type": "stream",
     "text": [
      "/Users/sclance/Desktop/Recent Project/Email_Reader/src/email_agent/web/search_results\n"
     ]
    }
   ],
   "source": [
    "!pwd"
   ]
  }
 ],
 "metadata": {
  "kernelspec": {
   "display_name": "Python (email_agent)",
   "language": "python",
   "name": "email_agent"
  },
  "language_info": {
   "codemirror_mode": {
    "name": "ipython",
    "version": 3
   },
   "file_extension": ".py",
   "mimetype": "text/x-python",
   "name": "python",
   "nbconvert_exporter": "python",
   "pygments_lexer": "ipython3",
   "version": "3.13.1"
  }
 },
 "nbformat": 4,
 "nbformat_minor": 2
}
