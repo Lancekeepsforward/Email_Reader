{
 "cells": [
  {
   "cell_type": "code",
   "execution_count": 11,
   "metadata": {},
   "outputs": [],
   "source": [
    "from IPython.display import clear_output\n",
    "import pandas as pd\n",
    "import sys\n",
    "import os\n",
    "from pathlib import Path"
   ]
  },
  {
   "cell_type": "code",
   "execution_count": 2,
   "metadata": {},
   "outputs": [
    {
     "data": {
      "text/html": [
       "<div>\n",
       "<style scoped>\n",
       "    .dataframe tbody tr th:only-of-type {\n",
       "        vertical-align: middle;\n",
       "    }\n",
       "\n",
       "    .dataframe tbody tr th {\n",
       "        vertical-align: top;\n",
       "    }\n",
       "\n",
       "    .dataframe thead th {\n",
       "        text-align: right;\n",
       "    }\n",
       "</style>\n",
       "<table border=\"1\" class=\"dataframe\">\n",
       "  <thead>\n",
       "    <tr style=\"text-align: right;\">\n",
       "      <th></th>\n",
       "      <th>kind</th>\n",
       "      <th>title</th>\n",
       "      <th>htmlTitle</th>\n",
       "      <th>link</th>\n",
       "      <th>displayLink</th>\n",
       "      <th>snippet</th>\n",
       "      <th>htmlSnippet</th>\n",
       "      <th>formattedUrl</th>\n",
       "      <th>htmlFormattedUrl</th>\n",
       "      <th>pagemap.metatags</th>\n",
       "      <th>pagemap.cse_thumbnail</th>\n",
       "      <th>pagemap.cse_image</th>\n",
       "      <th>pagemap.hcard</th>\n",
       "      <th>pagemap.QAPage</th>\n",
       "      <th>pagemap.audioobject</th>\n",
       "      <th>pagemap.listitem</th>\n",
       "      <th>pagemap.BreadcrumbList</th>\n",
       "      <th>pagemap.sitenavigationelement</th>\n",
       "      <th>pagemap.xfn</th>\n",
       "    </tr>\n",
       "  </thead>\n",
       "  <tbody>\n",
       "    <tr>\n",
       "      <th>0</th>\n",
       "      <td>customsearch#result</td>\n",
       "      <td>Capital of France - Simple English Wikipedia, ...</td>\n",
       "      <td>&lt;b&gt;Capital of France&lt;/b&gt; - Simple English Wiki...</td>\n",
       "      <td>https://simple.wikipedia.org/wiki/Capital_of_F...</td>\n",
       "      <td>simple.wikipedia.org</td>\n",
       "      <td>This article is about the French national capi...</td>\n",
       "      <td>This article is about the French national capi...</td>\n",
       "      <td>https://simple.wikipedia.org/wiki/Capital_of_F...</td>\n",
       "      <td>https://simple.wikipedia.org/wiki/&lt;b&gt;Capital_o...</td>\n",
       "      <td>[{'referrer': 'origin', 'theme-color': '#eaecf...</td>\n",
       "      <td>NaN</td>\n",
       "      <td>NaN</td>\n",
       "      <td>NaN</td>\n",
       "      <td>NaN</td>\n",
       "      <td>NaN</td>\n",
       "      <td>NaN</td>\n",
       "      <td>NaN</td>\n",
       "      <td>NaN</td>\n",
       "      <td>NaN</td>\n",
       "    </tr>\n",
       "  </tbody>\n",
       "</table>\n",
       "</div>"
      ],
      "text/plain": [
       "                  kind                                              title  \\\n",
       "0  customsearch#result  Capital of France - Simple English Wikipedia, ...   \n",
       "\n",
       "                                           htmlTitle  \\\n",
       "0  <b>Capital of France</b> - Simple English Wiki...   \n",
       "\n",
       "                                                link           displayLink  \\\n",
       "0  https://simple.wikipedia.org/wiki/Capital_of_F...  simple.wikipedia.org   \n",
       "\n",
       "                                             snippet  \\\n",
       "0  This article is about the French national capi...   \n",
       "\n",
       "                                         htmlSnippet  \\\n",
       "0  This article is about the French national capi...   \n",
       "\n",
       "                                        formattedUrl  \\\n",
       "0  https://simple.wikipedia.org/wiki/Capital_of_F...   \n",
       "\n",
       "                                    htmlFormattedUrl  \\\n",
       "0  https://simple.wikipedia.org/wiki/<b>Capital_o...   \n",
       "\n",
       "                                    pagemap.metatags pagemap.cse_thumbnail  \\\n",
       "0  [{'referrer': 'origin', 'theme-color': '#eaecf...                   NaN   \n",
       "\n",
       "  pagemap.cse_image pagemap.hcard pagemap.QAPage pagemap.audioobject  \\\n",
       "0               NaN           NaN            NaN                 NaN   \n",
       "\n",
       "  pagemap.listitem pagemap.BreadcrumbList pagemap.sitenavigationelement  \\\n",
       "0              NaN                    NaN                           NaN   \n",
       "\n",
       "  pagemap.xfn  \n",
       "0         NaN  "
      ]
     },
     "execution_count": 2,
     "metadata": {},
     "output_type": "execute_result"
    }
   ],
   "source": [
    "\n",
    "df = pd.read_csv('search_results.csv')\n",
    "\n",
    "df.head(1)"
   ]
  },
  {
   "cell_type": "code",
   "execution_count": 20,
   "metadata": {},
   "outputs": [
    {
     "name": "stdout",
     "output_type": "stream",
     "text": [
      "pagemap.xfn\n",
      "[{}]    1\n",
      "Name: count, dtype: int64\n",
      "\n",
      "\n"
     ]
    }
   ],
   "source": [
    "for column in df.columns:\n",
    "    print(df[column].value_counts())\n",
    "    print(\"\\n\")\n",
    "    if input() == 'q':\n",
    "        break\n",
    "    clear_output(wait=True)\n",
    "\n"
   ]
  },
  {
   "cell_type": "code",
   "execution_count": 42,
   "metadata": {},
   "outputs": [
    {
     "name": "stdout",
     "output_type": "stream",
     "text": [
      "0 /Users/sclance/Desktop/Recent Project/Email_Reader\n",
      "1 /opt/homebrew/Cellar/python@3.13/3.13.1/Frameworks/Python.framework/Versions/3.13/lib/python3.13\n",
      "2 /opt/homebrew/Cellar/python@3.13/3.13.1/Frameworks/Python.framework/Versions/3.13/lib/python3.13/lib-dynload\n",
      "3 \n",
      "4 /Users/sclance/Desktop/Recent Project/Email_Reader/.venv/lib/python3.13/site-packages\n",
      "5 /opt/homebrew/Cellar/python@3.13/3.13.1/Frameworks/Python.framework/Versions/3.13/lib/python313.zip\n",
      "6 /Users/sclance/Desktop/Recent Project/Email_Reader/src/email_agent/agent\n",
      "7 /Users/sclance/Desktop/Recent Project/Email_Reader/src/email_agent/utils\n",
      "8 /Users/sclance/Desktop/Recent Project/Email_Reader/src/email_agent/config\n"
     ]
    }
   ],
   "source": [
    "# sys.path.append('/Users/sclance/Desktop/Recent Project/Email_Reader/src')\n",
    "sys.path.append('/Users/sclance/Desktop/Recent Project/Email_Reader/src/email_agent/agent')\n",
    "sys.path.append('/Users/sclance/Desktop/Recent Project/Email_Reader/src/email_agent/utils')\n",
    "sys.path.append('/Users/sclance/Desktop/Recent Project/Email_Reader/src/email_agent/config')\n",
    "for idx, path in enumerate(sys.path):\n",
    "    print(idx, path)"
   ]
  },
  {
   "cell_type": "code",
   "execution_count": 36,
   "metadata": {},
   "outputs": [],
   "source": [
    "del sys.path[6:]"
   ]
  },
  {
   "cell_type": "code",
   "execution_count": 30,
   "metadata": {},
   "outputs": [
    {
     "data": {
      "text/plain": [
       "'/Users/sclance/Desktop/Recent Project/Email_Reader'"
      ]
     },
     "execution_count": 30,
     "metadata": {},
     "output_type": "execute_result"
    }
   ],
   "source": [
    "sys.path[0]"
   ]
  },
  {
   "cell_type": "code",
   "execution_count": 17,
   "metadata": {},
   "outputs": [],
   "source": [
    "sys.path.append('/Users/sclance/Desktop/Recent Project/Email_Reader/src/email_agent/config')"
   ]
  },
  {
   "cell_type": "code",
   "execution_count": 49,
   "metadata": {},
   "outputs": [
    {
     "name": "stdout",
     "output_type": "stream",
     "text": [
      "/Users/sclance/Desktop/Recent Project/Email_Reader/src/email_agent/config/rules_agents.json\n"
     ]
    },
    {
     "data": {
      "text/plain": [
       "True"
      ]
     },
     "execution_count": 49,
     "metadata": {},
     "output_type": "execute_result"
    }
   ],
   "source": [
    "from dotenv import load_dotenv\n",
    "\n",
    "load_dotenv()\n",
    "path =\"/Users/sclance/Desktop/Recent Project/Email_Reader\" + os.getenv(\"CONFIG_DIR\", \"None\")[1:] + \"/rules_agents.json\"\n",
    "print(\"/Users/sclance/Desktop/Recent Project/Email_Reader\" + os.getenv(\"CONFIG_DIR\", \"None\")[1:] + \"/rules_agents.json\")\n",
    "Path(path).exists()"
   ]
  },
  {
   "cell_type": "code",
   "execution_count": 43,
   "metadata": {},
   "outputs": [
    {
     "ename": "FileNotFoundError",
     "evalue": "[Errno 2] No such file or directory: 'src/email_agent/config/rules_agents.json'",
     "output_type": "error",
     "traceback": [
      "\u001b[31m---------------------------------------------------------------------------\u001b[39m",
      "\u001b[31mFileNotFoundError\u001b[39m                         Traceback (most recent call last)",
      "\u001b[36mCell\u001b[39m\u001b[36m \u001b[39m\u001b[32mIn[43]\u001b[39m\u001b[32m, line 2\u001b[39m\n\u001b[32m      1\u001b[39m \u001b[38;5;66;03m# sys.path.append('/Users/sclance/Desktop/Recent Project/Email_Reader/src/email_agent/agent')\u001b[39;00m\n\u001b[32m----> \u001b[39m\u001b[32m2\u001b[39m \u001b[38;5;28;01mfrom\u001b[39;00m\u001b[38;5;250m \u001b[39m\u001b[34;01memail_agent\u001b[39;00m\u001b[34;01m.\u001b[39;00m\u001b[34;01magent\u001b[39;00m\u001b[34;01m.\u001b[39;00m\u001b[34;01mbase_agent\u001b[39;00m\u001b[38;5;250m \u001b[39m\u001b[38;5;28;01mimport\u001b[39;00m BaseAgent\n\u001b[32m      4\u001b[39m agent = BaseAgent()\n\u001b[32m      6\u001b[39m \u001b[38;5;28mprint\u001b[39m(agent)\n",
      "\u001b[36mFile \u001b[39m\u001b[32m~/Desktop/Recent Project/Email_Reader/src/email_agent/agent/base_agent.py:15\u001b[39m\n\u001b[32m     13\u001b[39m client = Groq(api_key=GROQ_API_KEY)\n\u001b[32m     14\u001b[39m CONFIG_DIR = os.getenv(\u001b[33m\"\u001b[39m\u001b[33mCONFIG_DIR\u001b[39m\u001b[33m\"\u001b[39m)\n\u001b[32m---> \u001b[39m\u001b[32m15\u001b[39m RULES_AGENTS = json.loads(\u001b[43mPath\u001b[49m\u001b[43m(\u001b[49m\u001b[43mCONFIG_DIR\u001b[49m\u001b[43m,\u001b[49m\u001b[43m \u001b[49m\u001b[33;43m\"\u001b[39;49m\u001b[33;43mrules_agents.json\u001b[39;49m\u001b[33;43m\"\u001b[39;49m\u001b[43m)\u001b[49m\u001b[43m.\u001b[49m\u001b[43mread_text\u001b[49m\u001b[43m(\u001b[49m\u001b[43mencoding\u001b[49m\u001b[43m=\u001b[49m\u001b[33;43m\"\u001b[39;49m\u001b[33;43mutf-8\u001b[39;49m\u001b[33;43m\"\u001b[39;49m\u001b[43m)\u001b[49m)\n\u001b[32m     18\u001b[39m \u001b[38;5;28;01mclass\u001b[39;00m\u001b[38;5;250m \u001b[39m\u001b[34;01mBaseAgent\u001b[39;00m:\n\u001b[32m     19\u001b[39m     \u001b[38;5;28;01mdef\u001b[39;00m\u001b[38;5;250m \u001b[39m\u001b[34m__init__\u001b[39m(\u001b[38;5;28mself\u001b[39m, model: \u001b[38;5;28mstr\u001b[39m = MODEL, client: Groq = client):\n",
      "\u001b[36mFile \u001b[39m\u001b[32m/opt/homebrew/Cellar/python@3.13/3.13.1/Frameworks/Python.framework/Versions/3.13/lib/python3.13/pathlib/_local.py:546\u001b[39m, in \u001b[36mPath.read_text\u001b[39m\u001b[34m(self, encoding, errors, newline)\u001b[39m\n\u001b[32m    543\u001b[39m \u001b[38;5;66;03m# Call io.text_encoding() here to ensure any warning is raised at an\u001b[39;00m\n\u001b[32m    544\u001b[39m \u001b[38;5;66;03m# appropriate stack level.\u001b[39;00m\n\u001b[32m    545\u001b[39m encoding = io.text_encoding(encoding)\n\u001b[32m--> \u001b[39m\u001b[32m546\u001b[39m \u001b[38;5;28;01mreturn\u001b[39;00m \u001b[43mPathBase\u001b[49m\u001b[43m.\u001b[49m\u001b[43mread_text\u001b[49m\u001b[43m(\u001b[49m\u001b[38;5;28;43mself\u001b[39;49m\u001b[43m,\u001b[49m\u001b[43m \u001b[49m\u001b[43mencoding\u001b[49m\u001b[43m,\u001b[49m\u001b[43m \u001b[49m\u001b[43merrors\u001b[49m\u001b[43m,\u001b[49m\u001b[43m \u001b[49m\u001b[43mnewline\u001b[49m\u001b[43m)\u001b[49m\n",
      "\u001b[36mFile \u001b[39m\u001b[32m/opt/homebrew/Cellar/python@3.13/3.13.1/Frameworks/Python.framework/Versions/3.13/lib/python3.13/pathlib/_abc.py:632\u001b[39m, in \u001b[36mPathBase.read_text\u001b[39m\u001b[34m(self, encoding, errors, newline)\u001b[39m\n\u001b[32m    628\u001b[39m \u001b[38;5;28;01mdef\u001b[39;00m\u001b[38;5;250m \u001b[39m\u001b[34mread_text\u001b[39m(\u001b[38;5;28mself\u001b[39m, encoding=\u001b[38;5;28;01mNone\u001b[39;00m, errors=\u001b[38;5;28;01mNone\u001b[39;00m, newline=\u001b[38;5;28;01mNone\u001b[39;00m):\n\u001b[32m    629\u001b[39m \u001b[38;5;250m    \u001b[39m\u001b[33;03m\"\"\"\u001b[39;00m\n\u001b[32m    630\u001b[39m \u001b[33;03m    Open the file in text mode, read it, and close the file.\u001b[39;00m\n\u001b[32m    631\u001b[39m \u001b[33;03m    \"\"\"\u001b[39;00m\n\u001b[32m--> \u001b[39m\u001b[32m632\u001b[39m     \u001b[38;5;28;01mwith\u001b[39;00m \u001b[38;5;28;43mself\u001b[39;49m\u001b[43m.\u001b[49m\u001b[43mopen\u001b[49m\u001b[43m(\u001b[49m\u001b[43mmode\u001b[49m\u001b[43m=\u001b[49m\u001b[33;43m'\u001b[39;49m\u001b[33;43mr\u001b[39;49m\u001b[33;43m'\u001b[39;49m\u001b[43m,\u001b[49m\u001b[43m \u001b[49m\u001b[43mencoding\u001b[49m\u001b[43m=\u001b[49m\u001b[43mencoding\u001b[49m\u001b[43m,\u001b[49m\u001b[43m \u001b[49m\u001b[43merrors\u001b[49m\u001b[43m=\u001b[49m\u001b[43merrors\u001b[49m\u001b[43m,\u001b[49m\u001b[43m \u001b[49m\u001b[43mnewline\u001b[49m\u001b[43m=\u001b[49m\u001b[43mnewline\u001b[49m\u001b[43m)\u001b[49m \u001b[38;5;28;01mas\u001b[39;00m f:\n\u001b[32m    633\u001b[39m         \u001b[38;5;28;01mreturn\u001b[39;00m f.read()\n",
      "\u001b[36mFile \u001b[39m\u001b[32m/opt/homebrew/Cellar/python@3.13/3.13.1/Frameworks/Python.framework/Versions/3.13/lib/python3.13/pathlib/_local.py:537\u001b[39m, in \u001b[36mPath.open\u001b[39m\u001b[34m(self, mode, buffering, encoding, errors, newline)\u001b[39m\n\u001b[32m    535\u001b[39m \u001b[38;5;28;01mif\u001b[39;00m \u001b[33m\"\u001b[39m\u001b[33mb\u001b[39m\u001b[33m\"\u001b[39m \u001b[38;5;129;01mnot\u001b[39;00m \u001b[38;5;129;01min\u001b[39;00m mode:\n\u001b[32m    536\u001b[39m     encoding = io.text_encoding(encoding)\n\u001b[32m--> \u001b[39m\u001b[32m537\u001b[39m \u001b[38;5;28;01mreturn\u001b[39;00m \u001b[43mio\u001b[49m\u001b[43m.\u001b[49m\u001b[43mopen\u001b[49m\u001b[43m(\u001b[49m\u001b[38;5;28;43mself\u001b[39;49m\u001b[43m,\u001b[49m\u001b[43m \u001b[49m\u001b[43mmode\u001b[49m\u001b[43m,\u001b[49m\u001b[43m \u001b[49m\u001b[43mbuffering\u001b[49m\u001b[43m,\u001b[49m\u001b[43m \u001b[49m\u001b[43mencoding\u001b[49m\u001b[43m,\u001b[49m\u001b[43m \u001b[49m\u001b[43merrors\u001b[49m\u001b[43m,\u001b[49m\u001b[43m \u001b[49m\u001b[43mnewline\u001b[49m\u001b[43m)\u001b[49m\n",
      "\u001b[31mFileNotFoundError\u001b[39m: [Errno 2] No such file or directory: 'src/email_agent/config/rules_agents.json'"
     ]
    }
   ],
   "source": [
    "# sys.path.append('/Users/sclance/Desktop/Recent Project/Email_Reader/src/email_agent/agent')\n",
    "from email_agent.agent.base_agent import BaseAgent\n",
    "\n",
    "agent = BaseAgent()\n",
    "\n",
    "print(agent)"
   ]
  },
  {
   "cell_type": "code",
   "execution_count": 44,
   "metadata": {},
   "outputs": [
    {
     "name": "stdout",
     "output_type": "stream",
     "text": [
      "/Users/sclance/Desktop/Recent Project/Email_Reader/src/email_agent/web/search_results\n"
     ]
    }
   ],
   "source": [
    "!pwd"
   ]
  }
 ],
 "metadata": {
  "kernelspec": {
   "display_name": "Python (email_agent)",
   "language": "python",
   "name": "email_agent"
  },
  "language_info": {
   "codemirror_mode": {
    "name": "ipython",
    "version": 3
   },
   "file_extension": ".py",
   "mimetype": "text/x-python",
   "name": "python",
   "nbconvert_exporter": "python",
   "pygments_lexer": "ipython3",
   "version": "3.13.1"
  }
 },
 "nbformat": 4,
 "nbformat_minor": 2
}
